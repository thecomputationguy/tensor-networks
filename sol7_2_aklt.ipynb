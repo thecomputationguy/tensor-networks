{
 "cells": [
  {
   "cell_type": "markdown",
   "metadata": {},
   "source": [
    "## Exercise 6.2 : The AKLT model"
   ]
  },
  {
   "cell_type": "code",
   "execution_count": 1,
   "metadata": {
    "collapsed": true
   },
   "outputs": [],
   "source": [
    "import scipy\n",
    "import scipy.linalg\n",
    "import scipy.sparse.linalg\n",
    "import numpy as np\n",
    "import matplotlib.pyplot as plt\n",
    "%matplotlib inline"
   ]
  },
  {
   "cell_type": "code",
   "execution_count": 2,
   "metadata": {
    "collapsed": true
   },
   "outputs": [],
   "source": [
    "# a) We will use the convention : 0 = up, 1 = down\n",
    "up, down = 0, 1\n",
    "\n",
    "Mo = np.zeros([1, 2, 2]) # l(eft) p(hysical) r(ight)\n",
    "Me = np.zeros([2, 2, 1])\n",
    "\n",
    "Mo[:, up, :]  = [[np.sqrt(2)**(-1), 0.]]   #(1x2) matrices\n",
    "Mo[:, down, :] = [[0.,-1.*np.sqrt(2)**(-1)]]\n",
    "\n",
    "Me[:, up, :] = [[0], #(2x1) matrices\n",
    "                [1]]\n",
    "Me[:, down, :] = [[1], \n",
    "                  [0]]\n",
    "\n",
    "phi0 = np.zeros([1, 2, 1]) # free spin on the edges\n",
    "phi0[:, up, :] = 1         # put them up\n",
    "\n",
    "L = 50\n",
    "singlet_mps = [phi0] + [Mo, Me] * ((L-2)//2) + [phi0]"
   ]
  },
  {
   "cell_type": "code",
   "execution_count": 3,
   "metadata": {},
   "outputs": [
    {
     "name": "stdout",
     "output_type": "stream",
     "text": [
      "norm of the state: 1.00000\n",
      "correlation between site 1 and 2: -1.00000\n",
      "correlation between site 1 and 3: 0.00000\n"
     ]
    }
   ],
   "source": [
    "# b)\n",
    "def overlap(mps_bra, mps_ket):\n",
    "    L = len(mps_bra)\n",
    "    assert L == len(mps_ket)\n",
    "    contr = np.ones((1,1)) # has indices (alpha_n*, alpha_n)\n",
    "    for n in range(L):\n",
    "        M_ket = mps_ket[n]  # has indices (alpha_n, j_n, alpha_{n+1})\n",
    "        contr = np.tensordot(contr, M_ket , axes=(1, 0))\n",
    "        #contr[alpha_n*,alpha_n]*M_ket[alpha_n,j_n,alpha_{n+1}]=contr[alpha_n*,j_n,alpha_{n+1}] \n",
    "        # now contr has indices alpha_n*, j_n, alpha_{n+1}\n",
    "        M_bra = mps_bra[n].conj()  # has indices (alpha_n*, j_n, alpha_{n+1}*)\n",
    "        contr = np.tensordot(M_bra, contr, axes=([0, 1], [0, 1]))\n",
    "        #M_bra[alpha_n*,j_n, alpha_{n+1}*]*contr[alpha_n*,j_n,alpha_n]=contr[alpha_n*, alpha_n]\n",
    "    assert contr.shape == (1, 1)\n",
    "    return contr.item()\n",
    "\n",
    "norm_singlet = overlap(singlet_mps,singlet_mps)\n",
    "print(\"norm of the state: {norm:0.5f}\".format(norm=norm_singlet))\n",
    "\n",
    "sigma_z = np.array([[1.,0.],[0.,-1.]])\n",
    "\n",
    "def apply_1_site_operator(mps_bra, op, site):\n",
    "    '''Applies a one-site operator on a given site of a given MPS.\n",
    "    Uses a copy so doesn't modify the given MPS.'''\n",
    "    mps_bra_op = mps_bra.copy()\n",
    "    assert site < len(mps_bra)\n",
    "    mps_bra_op[site] = np.tensordot(mps_bra_op[site], op, axes=(1, 0)) # l r p\n",
    "    mps_bra_op[site]  = mps_bra_op[site].transpose([0, 2, 1]) # l p r\n",
    "    return mps_bra_op\n",
    "\n",
    "def calculate_correlation(mps_bra, op, i, j):\n",
    "    '''Computes the operator correlation between site i and j of the given MPS '''\n",
    "    mps_flip_i = apply_1_site_operator(mps_bra, op, i)\n",
    "    si = overlap(mps_bra, mps_flip_i)\n",
    "    \n",
    "    mps_flip_j = apply_1_site_operator(mps_bra, op, j)\n",
    "    sj = overlap(mps_bra, mps_flip_j)\n",
    "    \n",
    "    mps_flip_ij = apply_1_site_operator(mps_flip_i, op, j)\n",
    "    return overlap(mps_bra, mps_flip_ij) - si*sj\n",
    "    \n",
    "i, j = 1,2\n",
    "corr = calculate_correlation(singlet_mps, sigma_z, i, j)\n",
    "print(\"correlation between site {i:d} and {j:d}: {corr:0.5f}\".format(i=i,j=j,corr=corr))\n",
    "\n",
    "i, j = 1,3\n",
    "corr = calculate_correlation(singlet_mps, sigma_z, i, j)\n",
    "print(\"correlation between site {i:d} and {j:d}: {corr:0.5f}\".format(i=i,j=j,corr=corr))"
   ]
  },
  {
   "cell_type": "code",
   "execution_count": 4,
   "metadata": {
    "collapsed": true
   },
   "outputs": [],
   "source": [
    "# c) Spin-1 projector\n",
    "P = np.zeros([3, 2, 2]) # Convention: spin1, 2 x spin1/2 (left/right)\n",
    "# order of spin-1 states: 0 -> |-1>, 1 -> |0>, 2 -> |1>\n",
    "P[0, down, down] = 1\n",
    "P[1, :, :] = np.sqrt(0.5) * np.array([[0, 1], [1, 0]])\n",
    "P[2, up, up] = 1\n",
    "\n",
    "# Apply this projector to the singlet MPS\n",
    "aklt_mps = []\n",
    "for i in range(0, L , 2):\n",
    "    M = np.tensordot(singlet_mps[i], singlet_mps[i+1], axes=[2, 0])  # l, p1, p2, r\n",
    "    M = np.tensordot(P, M, axes=[[1, 2], [1, 2]]) # p, l, r\n",
    "    M = M.transpose([1, 0, 2]) # l p r\n",
    "    aklt_mps.append(M)\n"
   ]
  },
  {
   "cell_type": "code",
   "execution_count": 5,
   "metadata": {},
   "outputs": [
    {
     "name": "stdout",
     "output_type": "stream",
     "text": [
      "norm of the AKLT state: 0.0007525435\n",
      "Bulk tensor looks almost left-canonical:\n",
      "[[ 0.75  0.  ]\n",
      " [ 0.    0.75]]\n",
      "Make bulk tensor left-canonical:\n",
      "[[ 1.  0.]\n",
      " [ 0.  1.]]\n",
      "This gives the MPS respresentation of the AKLT ground state that you will find in the literature: \n",
      "+1 [[ 0.          0.        ]\n",
      " [ 0.81649658  0.        ]]\n",
      "0 [[ 0.57735027  0.        ]\n",
      " [ 0.         -0.57735027]]\n",
      "-1 [[ 0.         -0.81649658]\n",
      " [ 0.          0.        ]]\n"
     ]
    }
   ],
   "source": [
    "# d) check normalization\n",
    "norm_aklt = overlap(aklt_mps,aklt_mps)\n",
    "print(\"norm of the AKLT state: {norm:0.10f}\".format(norm=norm_aklt))\n",
    "\n",
    "print(\"Bulk tensor looks almost left-canonical:\")\n",
    "M = aklt_mps[1].copy()\n",
    "# Check the canonical form of the bulk tensor M:\n",
    "fix_left = np.tensordot(M, M.conj(), axes=([0,1],[0,1]))\n",
    "print(fix_left)\n",
    "\n",
    "print(\"Make bulk tensor left-canonical:\")\n",
    "M *= np.sqrt(4/3)\n",
    "for i in range(1,len(aklt_mps)-1):\n",
    "    aklt_mps[i] *= np.sqrt(4/3)\n",
    "fix_left = np.tensordot(M, M.conj(), axes=([0,1],[0,1]))\n",
    "print(fix_left)\n",
    "\n",
    "print(\"This gives the MPS respresentation of the AKLT ground state that you will find in the literature: \")\n",
    "print(\"+1\", M[:,2,:]) \n",
    "print(\"0\", M[:,1,:]) \n",
    "print(\"-1\",M[:,0,:])"
   ]
  },
  {
   "cell_type": "markdown",
   "metadata": {},
   "source": [
    "i.e.\n",
    "$\\begin{align}\n",
    "\tM^{[n] +1} & = \\sqrt{\\frac{4}{3}}\\begin{pmatrix} 0 & 0 \\\\ \\frac{1}{\\sqrt{2}} & 0 \\end{pmatrix}\n",
    "\t&\n",
    "\tM^{[n] 0} & = \\sqrt{\\frac{4}{3}}\\begin{pmatrix} \\frac{1}{2} & 0 \\\\ 0 & -\\frac{1}{2} \\end{pmatrix}\n",
    "\t&\n",
    "\tM^{[n] -1} & = \\sqrt{\\frac{4}{3}}\\begin{pmatrix} 0 & -\\frac{1}{\\sqrt{2}} \\\\ 0 & 0 \\end{pmatrix}\n",
    "\t.\\label{eq:AKLT}\n",
    "\\end{align}$"
   ]
  },
  {
   "cell_type": "code",
   "execution_count": 6,
   "metadata": {},
   "outputs": [
    {
     "name": "stdout",
     "output_type": "stream",
     "text": [
      "norm of the AKLT state: 0.5625000000\n",
      "norm of the AKLT state after renormalizing: 1.00000\n"
     ]
    }
   ],
   "source": [
    "# d) check normalization\n",
    "norm_aklt = overlap(aklt_mps,aklt_mps)\n",
    "print(\"norm of the AKLT state: {norm:0.10f}\".format(norm=norm_aklt))\n",
    "aklt_mps[0] /= np.sqrt(norm_aklt) # make MPS normlized\n",
    "norm_aklt = overlap(aklt_mps,aklt_mps)\n",
    "print(\"norm of the AKLT state after renormalizing: {norm:0.5f}\".format(norm=norm_aklt))"
   ]
  },
  {
   "cell_type": "code",
   "execution_count": 7,
   "metadata": {},
   "outputs": [
    {
     "data": {
      "image/png": "[encoded data removed]",
      "text/plain": [
       "<Figure size 432x288 with 1 Axes>"
      ]
     },
     "metadata": {
      "needs_background": "light"
     },
     "output_type": "display_data"
    }
   ],
   "source": [
    "# e) correlations in the AKLT state\n",
    "Sz = np.array([[1.,0.,0],[0.,0,0],[0.,0.,-1.]]) # spin-1 Sz operator\n",
    "corrs = [] \n",
    "ds = []\n",
    "i = 1\n",
    "d_max = len(aklt_mps)-1\n",
    "\n",
    "for d in range(d_max-i):\n",
    "    j = i + d\n",
    "    corrs.append(calculate_correlation(aklt_mps, Sz, i, j))\n",
    "    ds.append(d)\n",
    "    \n",
    "    \n",
    "plt.figure()\n",
    "plt.semilogy(ds,np.abs(corrs),label=\"L={L:d}\".format(L=len(aklt_mps)))\n",
    "plt.semilogy(ds, np.abs([(-1/3)**(d) for d in ds]),'.',label=r\"$ |(-1/3)|^{|i-j|}$\")\n",
    "plt.xlabel(\"|i-j|\")\n",
    "plt.ylabel(r\"$\\langle S^z_i | S^z_j \\rangle $\")\n",
    "plt.legend()\n",
    "plt.show()"
   ]
  },
  {
   "cell_type": "code",
   "execution_count": null,
   "metadata": {
    "collapsed": true
   },
   "outputs": [],
   "source": []
  },
  {
   "cell_type": "code",
   "execution_count": null,
   "metadata": {
    "collapsed": true
   },
   "outputs": [],
   "source": []
  }
 ],
 "metadata": {
  "kernelspec": {
   "display_name": "Python 3",
   "language": "python",
   "name": "python3"
  },
  "language_info": {
   "codemirror_mode": {
    "name": "ipython",
    "version": 3
   },
   "file_extension": ".py",
   "mimetype": "text/x-python",
   "name": "python",
   "nbconvert_exporter": "python",
   "pygments_lexer": "ipython3",
   "version": "3.6.2"
  }
 },
 "nbformat": 4,
 "nbformat_minor": 2
}
