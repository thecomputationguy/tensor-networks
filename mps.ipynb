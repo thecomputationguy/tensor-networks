{
 "cells": [
  {
   "cell_type": "code",
   "execution_count": 1,
   "metadata": {},
   "outputs": [],
   "source": [
    "import numpy as np\n",
    "import scipy\n",
    "from mps import mps_operations as mps"
   ]
  },
  {
   "cell_type": "code",
   "execution_count": 2,
   "metadata": {},
   "outputs": [
    {
     "data": {
      "text/plain": [
       "[(1, 2, 2), (2, 2, 2), (2, 2, 1)]"
      ]
     },
     "execution_count": 2,
     "metadata": {},
     "output_type": "execute_result"
    }
   ],
   "source": [
    "# state vector for a 3-body system\n",
    "\n",
    "n = L = 3\n",
    "bond_dim = 3\n",
    "\n",
    "psi = np.random.rand(*[2]*n)\n",
    "psi /= np.linalg.norm(psi)\n",
    "\n",
    "# create MPS\n",
    "Ms, Ss = mps.dense_to_mps(psi, bond_dim, n)\n",
    "\n",
    "[M.shape for M in Ms]"
   ]
  },
  {
   "cell_type": "code",
   "execution_count": 3,
   "metadata": {},
   "outputs": [
    {
     "name": "stdout",
     "output_type": "stream",
     "text": [
      "Matrix 0 is left-orthonormal: True\n",
      "Matrix 1 is left-orthonormal: True\n",
      "Matrix 2 is left-orthonormal: True\n"
     ]
    }
   ],
   "source": [
    "for i in range(len(Ms)):\n",
    "    id_ = np.tensordot(Ms[i].conj(), Ms[i], axes=([0, 1], [0, 1]))\n",
    "    is_id = np.allclose(id_, np.eye(id_.shape[0]))\n",
    "    print(f\"Matrix {i} is left-orthonormal: {is_id}\")"
   ]
  },
  {
   "cell_type": "code",
   "execution_count": 4,
   "metadata": {},
   "outputs": [
    {
     "data": {
      "text/plain": [
       "array([0.17352398, 0.16411731, 0.17141428, 0.19080148, 0.39655056,\n",
       "       0.32277688, 0.59437054, 0.51230194])"
      ]
     },
     "execution_count": 4,
     "metadata": {},
     "output_type": "execute_result"
    }
   ],
   "source": [
    "# define a random vector\n",
    "psi = np.random.rand(2**L)\n",
    "psi /= np.linalg.norm(psi)\n",
    "\n",
    "psi\n"
   ]
  },
  {
   "cell_type": "code",
   "execution_count": 5,
   "metadata": {},
   "outputs": [
    {
     "data": {
      "text/plain": [
       "[(1, 2, 2), (2, 2, 2), (2, 2, 1)]"
      ]
     },
     "execution_count": 5,
     "metadata": {},
     "output_type": "execute_result"
    }
   ],
   "source": [
    "# create MPS\n",
    "Ms = mps.compress(psi, L=L, chi_max=bond_dim)\n",
    "\n",
    "[M.shape for M in Ms]"
   ]
  },
  {
   "cell_type": "code",
   "execution_count": null,
   "metadata": {},
   "outputs": [],
   "source": []
  }
 ],
 "metadata": {
  "kernelspec": {
   "display_name": "base",
   "language": "python",
   "name": "python3"
  },
  "language_info": {
   "codemirror_mode": {
    "name": "ipython",
    "version": 3
   },
   "file_extension": ".py",
   "mimetype": "text/x-python",
   "name": "python",
   "nbconvert_exporter": "python",
   "pygments_lexer": "ipython3",
   "version": "3.12.2"
  }
 },
 "nbformat": 4,
 "nbformat_minor": 2
}
