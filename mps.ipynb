{
 "cells": [
  {
   "cell_type": "code",
   "execution_count": 7,
   "metadata": {},
   "outputs": [],
   "source": [
    "import numpy as np\n",
    "import scipy\n",
    "from mps import mps_operations as mps"
   ]
  },
  {
   "cell_type": "code",
   "execution_count": 15,
   "metadata": {},
   "outputs": [
    {
     "data": {
      "text/plain": [
       "[(1, 2, 2), (2, 2, 2), (2, 2, 1)]"
      ]
     },
     "execution_count": 15,
     "metadata": {},
     "output_type": "execute_result"
    }
   ],
   "source": [
    "# state vector for a 3-body system\n",
    "\n",
    "n = L = 3\n",
    "bond_dim = 3\n",
    "\n",
    "psi = np.random.rand(*[2]*n)\n",
    "psi /= np.linalg.norm(psi)\n",
    "\n",
    "# create MPS\n",
    "Ms, Ss = mps.dense_to_mps(psi, bond_dim, n)\n",
    "\n",
    "[M.shape for M in Ms]"
   ]
  },
  {
   "cell_type": "code",
   "execution_count": 16,
   "metadata": {},
   "outputs": [
    {
     "name": "stdout",
     "output_type": "stream",
     "text": [
      "Matrix 0 is left-orthonormal: True\n",
      "Matrix 1 is left-orthonormal: True\n",
      "Matrix 2 is left-orthonormal: True\n"
     ]
    }
   ],
   "source": [
    "for i in range(len(Ms)):\n",
    "    id_ = np.tensordot(Ms[i].conj(), Ms[i], axes=([0, 1], [0, 1]))\n",
    "    is_id = np.allclose(id_, np.eye(id_.shape[0]))\n",
    "    print(f\"Matrix {i} is left-orthonormal: {is_id}\")"
   ]
  },
  {
   "cell_type": "code",
   "execution_count": 19,
   "metadata": {},
   "outputs": [
    {
     "ename": "AssertionError",
     "evalue": "",
     "output_type": "error",
     "traceback": [
      "\u001b[0;31m---------------------------------------------------------------------------\u001b[0m",
      "\u001b[0;31mAssertionError\u001b[0m                            Traceback (most recent call last)",
      "Cell \u001b[0;32mIn[19], line 3\u001b[0m\n\u001b[1;32m      1\u001b[0m psi_aR \u001b[38;5;241m=\u001b[39m np\u001b[38;5;241m.\u001b[39mreshape(psi, (\u001b[38;5;241m1\u001b[39m, \u001b[38;5;241m2\u001b[39m\u001b[38;5;241m*\u001b[39m\u001b[38;5;241m*\u001b[39mL))\n\u001b[1;32m      2\u001b[0m chi_n, dim_R \u001b[38;5;241m=\u001b[39m psi_aR\u001b[38;5;241m.\u001b[39mshape\n\u001b[0;32m----> 3\u001b[0m \u001b[38;5;28;01massert\u001b[39;00m dim_R \u001b[38;5;241m==\u001b[39m \u001b[38;5;241m2\u001b[39m\u001b[38;5;241m*\u001b[39m\u001b[38;5;241m*\u001b[39m(L\u001b[38;5;241m-\u001b[39m(n\u001b[38;5;241m-\u001b[39m\u001b[38;5;241m1\u001b[39m))\n",
      "\u001b[0;31mAssertionError\u001b[0m: "
     ]
    }
   ],
   "source": [
    "psi_aR = np.reshape(psi, (1, 2**L))\n",
    "chi_n, dim_R = psi_aR.shape\n",
    "assert dim_R == 2**(L-(n-1))"
   ]
  },
  {
   "cell_type": "code",
   "execution_count": 21,
   "metadata": {},
   "outputs": [
    {
     "data": {
      "text/plain": [
       "(2, 2, 2)"
      ]
     },
     "execution_count": 21,
     "metadata": {},
     "output_type": "execute_result"
    }
   ],
   "source": [
    "psi.shape"
   ]
  },
  {
   "cell_type": "code",
   "execution_count": null,
   "metadata": {},
   "outputs": [],
   "source": []
  }
 ],
 "metadata": {
  "kernelspec": {
   "display_name": "base",
   "language": "python",
   "name": "python3"
  },
  "language_info": {
   "codemirror_mode": {
    "name": "ipython",
    "version": 3
   },
   "file_extension": ".py",
   "mimetype": "text/x-python",
   "name": "python",
   "nbconvert_exporter": "python",
   "pygments_lexer": "ipython3",
   "version": "3.12.2"
  }
 },
 "nbformat": 4,
 "nbformat_minor": 2
}
