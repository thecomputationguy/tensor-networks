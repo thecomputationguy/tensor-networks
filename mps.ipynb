{
 "cells": [
  {
   "cell_type": "code",
   "execution_count": 1,
   "metadata": {},
   "outputs": [],
   "source": [
    "import numpy as np\n",
    "import scipy\n",
    "from mps import mps_operations as mps"
   ]
  },
  {
   "cell_type": "code",
   "execution_count": 3,
   "metadata": {},
   "outputs": [
    {
     "data": {
      "text/plain": [
       "[(1, 2, 2), (2, 2, 2), (2, 2, 1)]"
      ]
     },
     "execution_count": 3,
     "metadata": {},
     "output_type": "execute_result"
    }
   ],
   "source": [
    "# state vector for a 3-body system\n",
    "\n",
    "n = L = 3\n",
    "bond_dim = 3\n",
    "\n",
    "psi = np.random.rand(*[2]*n)\n",
    "psi /= np.linalg.norm(psi)\n",
    "\n",
    "# create MPS\n",
    "Ms, Ss = mps.dense_to_mps(psi, bond_dim, n)\n",
    "\n",
    "[M.shape for M in Ms]"
   ]
  },
  {
   "cell_type": "code",
   "execution_count": 16,
   "metadata": {},
   "outputs": [
    {
     "name": "stdout",
     "output_type": "stream",
     "text": [
      "Matrix 0 is left-orthonormal: True\n",
      "Matrix 1 is left-orthonormal: True\n",
      "Matrix 2 is left-orthonormal: True\n"
     ]
    }
   ],
   "source": [
    "for i in range(len(Ms)):\n",
    "    id_ = np.tensordot(Ms[i].conj(), Ms[i], axes=([0, 1], [0, 1]))\n",
    "    is_id = np.allclose(id_, np.eye(id_.shape[0]))\n",
    "    print(f\"Matrix {i} is left-orthonormal: {is_id}\")"
   ]
  },
  {
   "cell_type": "code",
   "execution_count": null,
   "metadata": {},
   "outputs": [
    {
     "data": {
      "text/plain": [
       "array([0.47320997, 0.37992038, 0.27081122, 0.32434779, 0.07599206,\n",
       "       0.00720442, 0.15976006, 0.64949415])"
      ]
     },
     "execution_count": 4,
     "metadata": {},
     "output_type": "execute_result"
    }
   ],
   "source": [
    "# define a random vector\n",
    "psi = np.random.rand(2**L)\n",
    "psi /= np.linalg.norm(psi)\n",
    "\n",
    "psi\n"
   ]
  },
  {
   "cell_type": "code",
   "execution_count": 6,
   "metadata": {},
   "outputs": [
    {
     "ename": "AssertionError",
     "evalue": "Dimension mismatch: dim_R = 8, 2**(L-n) = 4",
     "output_type": "error",
     "traceback": [
      "\u001b[0;31m---------------------------------------------------------------------------\u001b[0m",
      "\u001b[0;31mAssertionError\u001b[0m                            Traceback (most recent call last)",
      "Cell \u001b[0;32mIn[6], line 2\u001b[0m\n\u001b[1;32m      1\u001b[0m \u001b[38;5;66;03m# create MPS\u001b[39;00m\n\u001b[0;32m----> 2\u001b[0m Ms \u001b[38;5;241m=\u001b[39m mps\u001b[38;5;241m.\u001b[39mcompress(psi, L\u001b[38;5;241m=\u001b[39mL, chi_max\u001b[38;5;241m=\u001b[39mbond_dim)\n\u001b[1;32m      4\u001b[0m [M\u001b[38;5;241m.\u001b[39mshape \u001b[38;5;28;01mfor\u001b[39;00m M \u001b[38;5;129;01min\u001b[39;00m Ms]\n",
      "File \u001b[0;32m~/Desktop/Programming/Python/tensor-networks/mps/mps_operations.py:61\u001b[0m, in \u001b[0;36mcompress\u001b[0;34m(psi, L, chi_max)\u001b[0m\n\u001b[1;32m     59\u001b[0m \u001b[38;5;28;01mfor\u001b[39;00m n \u001b[38;5;129;01min\u001b[39;00m \u001b[38;5;28mrange\u001b[39m(\u001b[38;5;241m1\u001b[39m, L\u001b[38;5;241m+\u001b[39m\u001b[38;5;241m1\u001b[39m):\n\u001b[1;32m     60\u001b[0m     chi_n, dim_R \u001b[38;5;241m=\u001b[39m psi_aR\u001b[38;5;241m.\u001b[39mshape\n\u001b[0;32m---> 61\u001b[0m     \u001b[38;5;28;01massert\u001b[39;00m dim_R \u001b[38;5;241m==\u001b[39m \u001b[38;5;241m2\u001b[39m\u001b[38;5;241m*\u001b[39m\u001b[38;5;241m*\u001b[39m(L\u001b[38;5;241m-\u001b[39mn), \u001b[38;5;124mf\u001b[39m\u001b[38;5;124m\"\u001b[39m\u001b[38;5;124mDimension mismatch: dim_R = \u001b[39m\u001b[38;5;132;01m{\u001b[39;00mdim_R\u001b[38;5;132;01m}\u001b[39;00m\u001b[38;5;124m, 2**(L-n) = \u001b[39m\u001b[38;5;132;01m{\u001b[39;00m\u001b[38;5;241m2\u001b[39m\u001b[38;5;241m*\u001b[39m\u001b[38;5;241m*\u001b[39m(L\u001b[38;5;241m-\u001b[39mn)\u001b[38;5;132;01m}\u001b[39;00m\u001b[38;5;124m\"\u001b[39m\n\u001b[1;32m     62\u001b[0m     psi_LR \u001b[38;5;241m=\u001b[39m np\u001b[38;5;241m.\u001b[39mreshape(psi_aR, (chi_n \u001b[38;5;241m*\u001b[39m \u001b[38;5;241m2\u001b[39m, dim_R \u001b[38;5;241m/\u001b[39m\u001b[38;5;241m/\u001b[39m \u001b[38;5;241m2\u001b[39m)) \u001b[38;5;66;03m# reshaping psi_aR into a tensor of dimensions ...\u001b[39;00m\n\u001b[1;32m     63\u001b[0m     \u001b[38;5;66;03m# ... (current left bond chi, 2 for qubits, remaining unprocessed right state)\u001b[39;00m\n",
      "\u001b[0;31mAssertionError\u001b[0m: Dimension mismatch: dim_R = 8, 2**(L-n) = 4"
     ]
    }
   ],
   "source": [
    "# create MPS\n",
    "Ms = mps.compress(psi, L=L, chi_max=bond_dim)\n",
    "\n",
    "[M.shape for M in Ms]"
   ]
  },
  {
   "cell_type": "code",
   "execution_count": null,
   "metadata": {},
   "outputs": [],
   "source": []
  }
 ],
 "metadata": {
  "kernelspec": {
   "display_name": "base",
   "language": "python",
   "name": "python3"
  },
  "language_info": {
   "codemirror_mode": {
    "name": "ipython",
    "version": 3
   },
   "file_extension": ".py",
   "mimetype": "text/x-python",
   "name": "python",
   "nbconvert_exporter": "python",
   "pygments_lexer": "ipython3",
   "version": "3.12.2"
  }
 },
 "nbformat": 4,
 "nbformat_minor": 2
}
