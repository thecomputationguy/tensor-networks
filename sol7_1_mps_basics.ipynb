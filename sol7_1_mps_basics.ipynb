{
 "cells": [
  {
   "cell_type": "markdown",
   "metadata": {},
   "source": [
    "# Exercise 6.1"
   ]
  },
  {
   "cell_type": "code",
   "execution_count": null,
   "metadata": {},
   "outputs": [],
   "source": [
    "import scipy\n",
    "import scipy.linalg\n",
    "import scipy.sparse.linalg\n",
    "import numpy as np\n",
    "import matplotlib.pyplot as plt\n",
    "import ed\n",
    "%matplotlib inline"
   ]
  },
  {
   "cell_type": "code",
   "execution_count": null,
   "metadata": {},
   "outputs": [],
   "source": [
    "L = 14\n",
    "g = 1.5\n",
    "J = 1.\n",
    "sx_list = ed.gen_sx_list(L)\n",
    "sz_list = ed.gen_sz_list(L)\n",
    "H = ed.gen_hamiltonian(sx_list, sz_list, g, J)\n",
    "E, vecs = scipy.sparse.linalg.eigsh(H, which='SA')\n",
    "psi0 = vecs[:, 0]\n",
    "print(psi0)\n",
    "print(\"E =\", E[0])\n",
    "print(\"norm = \", np.linalg.norm(psi0)) # close enough :D"
   ]
  },
  {
   "cell_type": "code",
   "execution_count": 18,
   "metadata": {
    "collapsed": true
   },
   "outputs": [],
   "source": [
    "def compress(psi, L, chimax):\n",
    "    psi_aR = np.reshape(psi, (1, 2**L))#psi_aR[(i1,...in)]\n",
    "    Ms = []\n",
    "    for n in range(1, L+1):\n",
    "        chi_n, dim_R = psi_aR.shape\n",
    "        assert dim_R == 2**(L-(n-1))\n",
    "        psi_LR = np.reshape(psi_aR, (chi_n*2, dim_R//2))#psi_aR[i1;(i2,...,iL)] # psi_aR[(vn,i_n);(in+1,...,iL)]\n",
    "        # M_n[i1;w1]*lambda_n[w1]*psi_tilde[w1;(i2,...,in)] \n",
    "        # M_n[(vn,in),wn+1]*lambda_n[wn+1]*psi_tilde[wn+1;(in+1,...,iL)]\n",
    "        M_n, lambda_n, psi_tilde = scipy.linalg.svd(psi_LR, full_matrices=False, lapack_driver='gesvd')\n",
    "        #Truncation step\n",
    "        if len(lambda_n) > chimax:\n",
    "            keep = np.argsort(lambda_n)[::-1][:chimax]\n",
    "            M_n = M_n[:, keep]#M_n[(vn,in),wn+1]-->M_n[(vn,in),vn+1]\n",
    "            lambda_n = lambda_n[keep]\n",
    "            psi_tilde = psi_tilde[keep, :]\n",
    "        chi_np1 = len(lambda_n)\n",
    "        M_n = np.reshape(M_n, (chi_n, 2, chi_np1))\n",
    "        #M_n[vn;in;vn+1]\n",
    "        Ms.append(M_n)\n",
    "        #psi_aR = lambda_n[:, np.newaxis] * psi_tilde[:,:]\n",
    "        #psi_aR[vn+1,(in+1,...iL)]=lambda_n[vn+1,vn+1]*psi_tilde[vn+1;(in+1,...,iL)]\n",
    "        psi_aR = np.tensordot(np.diag(lambda_n),psi_tilde,(1,0))\n",
    "\n",
    "    assert psi_aR.shape == (1, 1)\n",
    "    print(\"remaining in compress: \", psi_aR)\n",
    "    return Ms        "
   ]
  },
  {
   "cell_type": "code",
   "execution_count": 19,
   "metadata": {},
   "outputs": [
    {
     "name": "stdout",
     "output_type": "stream",
     "text": [
      "remaining in compress:  [[-1.]]\n",
      "(1, 2, 2)\n",
      "(2, 2, 4)\n",
      "(4, 2, 8)\n",
      "(8, 2, 16)\n",
      "(16, 2, 32)\n",
      "(32, 2, 64)\n",
      "(64, 2, 128)\n",
      "(128, 2, 64)\n",
      "(64, 2, 32)\n",
      "(32, 2, 16)\n",
      "(16, 2, 8)\n",
      "(8, 2, 4)\n",
      "(4, 2, 2)\n",
      "(2, 2, 1)\n",
      "first M:\n",
      "[[[ -1.00000000e+00  -9.83048977e-16]\n",
      "  [ -9.83048977e-16   1.00000000e+00]]]\n",
      "second M:\n",
      "[[[ -9.86368001e-01  -2.07420706e-15  -7.44947939e-16  -1.64554450e-01]\n",
      "  [ -2.51589473e-15   9.48349869e-01   3.17226302e-01   1.66141303e-15]]\n",
      "\n",
      " [[ -3.50401864e-16  -3.17226302e-01   9.48349869e-01   1.80189462e-15]\n",
      "  [  1.64554450e-01   1.33645207e-15   2.40418130e-15  -9.86368001e-01]]]\n"
     ]
    }
   ],
   "source": [
    "psi0_MPS_ex = compress(psi0, L, 2**(L//2))\n",
    "for i in range(len(psi0_MPS_ex)):\n",
    "    print(psi0_MPS_ex[i].shape)\n",
    "print(\"first M:\")\n",
    "print(psi0_MPS_ex[0])\n",
    "print(\"second M:\")\n",
    "print(psi0_MPS_ex[1])"
   ]
  },
  {
   "cell_type": "code",
   "execution_count": 26,
   "metadata": {},
   "outputs": [
    {
     "name": "stdout",
     "output_type": "stream",
     "text": [
      "remaining in compress:  [[-1.]]\n"
     ]
    }
   ],
   "source": [
    "psi0_MPS_compr = compress(psi0, L, 10)"
   ]
  },
  {
   "cell_type": "code",
   "execution_count": 27,
   "metadata": {},
   "outputs": [
    {
     "name": "stdout",
     "output_type": "stream",
     "text": [
      "total size of psi_MPS_ex = 43688\n",
      "total size of psi_MPS_compr = 1688\n"
     ]
    }
   ],
   "source": [
    "print(\"total size of psi_MPS_ex =\", sum([M.size for M in psi0_MPS_ex]))\n",
    "print(\"total size of psi_MPS_compr =\", sum([M.size for M in psi0_MPS_compr]))"
   ]
  },
  {
   "cell_type": "code",
   "execution_count": 28,
   "metadata": {
    "collapsed": true
   },
   "outputs": [],
   "source": [
    "def overlap(mps_bra, mps_ket):\n",
    "    L = len(mps_bra)\n",
    "    assert L == len(mps_ket)\n",
    "    contr = np.ones((1,1)) # has indices (alpha_n*, alpha_n)\n",
    "    for n in range(L):\n",
    "        M_ket = mps_ket[n]  # has indices (alpha_n, j_n, alpha_{n+1})\n",
    "        contr = np.tensordot(contr, M_ket , axes=(1, 0)) \n",
    "        # now contr has indices alpha_n*, j_n, alpha_{n+1}\n",
    "        M_bra = mps_bra[n].conj()  # has indices (alpha_n*, j_n, alpha_{n+1}*)\n",
    "        contr = np.tensordot(M_bra, contr, axes=([0, 1], [0, 1]))\n",
    "    assert contr.shape == (1, 1)\n",
    "    return contr.item()\n",
    "        "
   ]
  },
  {
   "cell_type": "code",
   "execution_count": 29,
   "metadata": {},
   "outputs": [
    {
     "name": "stdout",
     "output_type": "stream",
     "text": [
      "0.9999999999999984\n"
     ]
    }
   ],
   "source": [
    "print(overlap(psi0_MPS_ex, psi0_MPS_ex))"
   ]
  },
  {
   "cell_type": "code",
   "execution_count": 30,
   "metadata": {},
   "outputs": [
    {
     "name": "stdout",
     "output_type": "stream",
     "text": [
      "0.9999999999999878\n",
      "Still very good overlap, given that we have compressed the state quite much!\n"
     ]
    }
   ],
   "source": [
    "print(overlap(psi0_MPS_ex, psi0_MPS_compr))\n",
    "print(\"Still very good overlap, given that we have compressed the state quite much!\")"
   ]
  },
  {
   "cell_type": "code",
   "execution_count": 31,
   "metadata": {
    "collapsed": true
   },
   "outputs": [],
   "source": [
    "M_up = np.zeros((1, 2, 1))\n",
    "M_up[0, 0, 0] = 1.\n",
    "MPS_all_up = [M_up.copy() for i in range(L)]"
   ]
  },
  {
   "cell_type": "code",
   "execution_count": 32,
   "metadata": {},
   "outputs": [
    {
     "name": "stdout",
     "output_type": "stream",
     "text": [
      "0.8146943347914237\n"
     ]
    }
   ],
   "source": [
    "print(overlap(psi0_MPS_ex, MPS_all_up))"
   ]
  },
  {
   "cell_type": "code",
   "execution_count": null,
   "metadata": {
    "collapsed": true
   },
   "outputs": [],
   "source": []
  },
  {
   "cell_type": "code",
   "execution_count": null,
   "metadata": {
    "collapsed": true
   },
   "outputs": [],
   "source": []
  }
 ],
 "metadata": {
  "kernelspec": {
   "display_name": "Python 3",
   "language": "python",
   "name": "python3"
  },
  "language_info": {
   "codemirror_mode": {
    "name": "ipython",
    "version": 3
   },
   "file_extension": ".py",
   "mimetype": "text/x-python",
   "name": "python",
   "nbconvert_exporter": "python",
   "pygments_lexer": "ipython3",
   "version": "3.6.2"
  }
 },
 "nbformat": 4,
 "nbformat_minor": 2
}
